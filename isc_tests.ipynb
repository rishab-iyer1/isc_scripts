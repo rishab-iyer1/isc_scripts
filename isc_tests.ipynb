{
 "cells": [
  {
   "cell_type": "code",
   "execution_count": 1,
   "metadata": {},
   "outputs": [
    {
     "name": "stderr",
     "output_type": "stream",
     "text": [
      "/usr/local/fsl/lib/python3.11/site-packages/tqdm/auto.py:21: TqdmWarning: IProgress not found. Please update jupyter and ipywidgets. See https://ipywidgets.readthedocs.io/en/stable/user_install.html\n",
      "  from .autonotebook import tqdm as notebook_tqdm\n"
     ]
    },
    {
     "name": "stdout",
     "output_type": "stream",
     "text": [
      "/Volumes/BCI/Ambivalent_Affect/RishabISC/ISC/data/onesmallstep/sliding_isc/permutations/phaseshift_size30_step5_10000perms_1rois\n"
     ]
    }
   ],
   "source": [
    "\"\"\"\n",
    "ISC with sliding window to capture variations in relationship between ISC and emotional report\n",
    "\"\"\"\n",
    "\n",
    "import os\n",
    "import pickle\n",
    "from concurrent.futures import ThreadPoolExecutor, as_completed\n",
    "import cProfile\n",
    "import time\n",
    "from glob import glob\n",
    "from os.path import join\n",
    "import numpy as np\n",
    "import matplotlib.pyplot as plt\n",
    "from tqdm import tqdm\n",
    "from isc_standalone import p_from_null, isc, load_boolean_mask\n",
    "from ISC_Helper import get_rois, _compute_phaseshift_sliding_isc, load_roi_data\n",
    "import nibabel as nib\n",
    "from nilearn import plotting\n",
    "\n",
    "# -------------------------------\n",
    "# Parameters\n",
    "# -------------------------------\n",
    "task = 'onesmallstep'\n",
    "roi_selected = ['wholebrain']\n",
    "# roi_selected = ['PCC', 'ACC']\n",
    "emotions = ['P', 'N', 'M', 'X', 'Cry']  # Positive, Negative, Mixed, Neutral\n",
    "avg_over_roi = True\n",
    "spatial = False\n",
    "pairwise = False\n",
    "random_state = None\n",
    "window_size = 30\n",
    "step_size = 5\n",
    "if task == 'toystory':\n",
    "    n_trs = 274\n",
    "    n_shifts = 10000\n",
    "elif task == 'onesmallstep':\n",
    "    n_trs = 454\n",
    "    n_shifts = 10000\n",
    "else:\n",
    "    raise Exception('task not defined')\n",
    "n_windows = int((n_trs - window_size) / step_size) + 1\n",
    "batch_size = 16\n",
    "\n",
    "smooth = 'smooth'\n",
    "avg_over_roi_name = \"avg\" if avg_over_roi else \"voxelwise\"\n",
    "spatial_name = \"spatial\" if spatial else \"temporal\"\n",
    "pairwise_name = \"pairwise\" if pairwise else \"group\"\n",
    "\n",
    "# -------------------------------\n",
    "# File paths\n",
    "# -------------------------------\n",
    "if task == 'toystory':\n",
    "    data_dir_func = '/Volumes/BCI/Ambivalent_Affect/fMRI_Study/ISC_Data/ToyStoryNuisanceRegressed'\n",
    "elif task == 'onesmallstep':\n",
    "    data_dir_func = '/Volumes/BCI/Ambivalent_Affect/fMRI_Study/ISC_Data_cut/NuisanceRegressed'\n",
    "else:\n",
    "    raise ValueError('Invalid task')\n",
    "    \n",
    "func_fns = glob(join(data_dir_func, 'P?.nii.gz')) + glob(join(data_dir_func, 'N?.nii.gz')) + \\\n",
    "           glob(join(data_dir_func, 'VR?.nii.gz')) + glob(join(data_dir_func, 'P??.nii.gz')) + \\\n",
    "           glob(join(data_dir_func, 'N??.nii.gz')) + glob(join(data_dir_func, 'VR??.nii.gz'))\n",
    "\n",
    "if task == 'toystory':\n",
    "    # remove VR7 and 8 temporarily for testing because they are 295 not 300 TRs\n",
    "    func_fns = [fn for fn in func_fns if 'VR7' not in fn and 'VR8' not in fn]\n",
    "    label_dir = '/Volumes/BCI/Ambivalent_Affect/fMRI_Study/VideoLabelling/Toy_Story_Labelled'\n",
    "elif task == 'onesmallstep':\n",
    "    label_dir = '/Volumes/BCI/Ambivalent_Affect/fMRI_Study/VideoLabelling/OSS_Labelled'\n",
    "\n",
    "subj_ids = [str(subj).split('/')[-1].split('.')[0] for subj in func_fns]  # assume BIDS format\n",
    "subj_ids.sort()\n",
    "\n",
    "roi_mask_path = '/Volumes/BCI/Ambivalent_Affect/rois'\n",
    "all_roi_fpaths = glob(os.path.join(roi_mask_path, '*.nii*'))\n",
    "all_roi_masker = get_rois(all_roi_fpaths)\n",
    "data_path = f'/Volumes/BCI/Ambivalent_Affect/RishabISC/ISC/data/{task}'\n",
    "figure_path = f'/Volumes/BCI/Ambivalent_Affect/RishabISC/ISC/figures/{task}'\n",
    "isc_path = f\"{data_path}/isc_sliding_{pairwise_name}_n{len(subj_ids)}_{avg_over_roi_name}_roi{len(roi_selected)}_\" \\\n",
    "           f\"window{window_size}_step{step_size}.pkl\"\n",
    "sliding_perm_path = f\"{data_path}/sliding_isc/permutations/phaseshift_size{window_size}_step{step_size}\"\n",
    "save_path = f\"{sliding_perm_path}_{n_shifts}perms_{len(roi_selected)}rois\"\n",
    "print(save_path)"
   ]
  },
  {
   "cell_type": "code",
   "execution_count": 5,
   "metadata": {},
   "outputs": [
    {
     "name": "stdout",
     "output_type": "stream",
     "text": [
      "(902629,)\n"
     ]
    }
   ],
   "source": [
    "parc = nib.load(f\"{data_path}/schaefer_2018/Schaefer2018_1000Parcels_17Networks_order_FSLMNI152_2mm.nii.gz\")\n",
    "print(parc.get_fdata().flatten().shape)\n",
    "mask = np.load(f\"{data_path}/mask_img.npy\")\n",
    "assert np.all(parc.shape == mask.shape)\n",
    "masked_parc = parc.get_fdata().flatten()[mask.flatten()]\n",
    "print(masked_parc.shape)"
   ]
  },
  {
   "cell_type": "code",
   "execution_count": 62,
   "metadata": {},
   "outputs": [],
   "source": [
    "# isc_data_path = f\"{data_path}/func_data_parcellated\"\n",
    "\n",
    "# if not os.path.exists(isc_data_path):\n",
    "#     from nilearn.datasets import fetch_atlas_schaefer_2018\n",
    "#     from nilearn.maskers import NiftiLabelsMasker\n",
    "\n",
    "#     all_parcels = []\n",
    "#     n_parcels = 1000\n",
    "#     atlas = fetch_atlas_schaefer_2018(n_rois=n_parcels, yeo_networks=17, resolution_mm=2, data_dir=data_path)\n",
    "#     labels = [x.decode('UTF-8') for x in atlas.labels]  # https://stackoverflow.com/questions/23618218/numpy-bytes-to-plain-string\n",
    "\n",
    "#     # Initialize labels masker with atlas parcels\n",
    "#     masker = NiftiLabelsMasker(atlas.maps, labels=labels)\n",
    "\n",
    "#     for file in func_fns[:2]:\n",
    "#         # Fit masker to extract mean time series for parcels\n",
    "#         all_parcels.append(masker.fit_transform(file))\n",
    "\n",
    "#     all_parcels = np.array(all_parcels).transpose(1, 2, 0)\n",
    "#     np.save(isc_data_path, all_parcels)\n",
    "# else:\n",
    "#     # load in parcellated data from file\n",
    "#     all_parcels = np.load(isc_data_path)\n"
   ]
  },
  {
   "cell_type": "code",
   "execution_count": 70,
   "metadata": {},
   "outputs": [
    {
     "name": "stdout",
     "output_type": "stream",
     "text": [
      "ROI wholebrain, subj #0: P2 loaded from file\n",
      "ROI wholebrain, subj #1: P3 loaded from file\n",
      "ROI wholebrain, subj #2: P1 loaded from file\n",
      "ROI wholebrain, subj #3: N2 loaded from file\n",
      "ROI wholebrain, subj #4: N1 loaded from file\n",
      "ROI wholebrain, subj #5: N3 loaded from file\n",
      "ROI wholebrain, subj #6: VR4 loaded from file\n",
      "ROI wholebrain, subj #7: VR5 loaded from file\n",
      "ROI wholebrain, subj #8: VR8 loaded from file\n",
      "ROI wholebrain, subj #9: VR9 loaded from file\n",
      "ROI wholebrain, subj #10: VR7 loaded from file\n",
      "ROI wholebrain, subj #11: VR1 loaded from file\n",
      "ROI wholebrain, subj #12: VR2 loaded from file\n",
      "ROI wholebrain, subj #13: VR3 loaded from file\n",
      "ROI wholebrain, subj #14: VR14 loaded from file\n",
      "ROI wholebrain, subj #15: VR15 loaded from file\n",
      "ROI wholebrain, subj #16: VR19 loaded from file\n",
      "ROI wholebrain, subj #17: VR17 loaded from file\n",
      "ROI wholebrain, subj #18: VR18 loaded from file\n",
      "ROI wholebrain, subj #19: VR22 loaded from file\n",
      "ROI wholebrain, subj #20: VR13 loaded from file\n",
      "ROI wholebrain, subj #21: VR23 loaded from file\n",
      "ROI wholebrain, subj #22: VR12 loaded from file\n",
      "ROI wholebrain, subj #23: VR16 loaded from file\n",
      "ROI wholebrain, subj #24: VR10 loaded from file\n",
      "ROI wholebrain, subj #25: VR11 loaded from file\n",
      "ROI wholebrain, subj #26: VR21 loaded from file\n"
     ]
    }
   ],
   "source": [
    "from itertools import repeat\n",
    "with ThreadPoolExecutor() as executor:\n",
    "    bold_roi = executor.map(load_roi_data, roi_selected, repeat(all_roi_masker), repeat(func_fns), repeat(data_path))  # repeat is used to pass the parameter to each iteration in map(). the "
   ]
  },
  {
   "cell_type": "code",
   "execution_count": 11,
   "metadata": {},
   "outputs": [],
   "source": [
    "# # wholebrain_paths = glob(join(data_path, \"bold_roi\", \"wholebrain_*\"))\n",
    "\n",
    "# all_parcel_data = []\n",
    "# for p in wholebrain_paths:\n",
    "#     z = np.load(p)\n",
    "#     n_parcels = 1000\n",
    "#     parcel_ts = np.zeros((z.shape[0], n_parcels))\n",
    "#     for parcel_id in range(1, n_parcels + 1):\n",
    "#         parcel_voxels = np.where(masked_parc == parcel_id)[0]\n",
    "#         if parcel_voxels.size > 0:\n",
    "#             parcel_ts[:, parcel_id - 1] = np.mean(z[:, parcel_voxels], axis=1)\n",
    "\n",
    "#     all_parcel_data.append(parcel_ts)\n"
   ]
  },
  {
   "cell_type": "code",
   "execution_count": 71,
   "metadata": {},
   "outputs": [
    {
     "data": {
      "text/plain": [
       "(454, 228483, 27)"
      ]
     },
     "execution_count": 71,
     "metadata": {},
     "output_type": "execute_result"
    }
   ],
   "source": [
    "data = [x for x in bold_roi]\n",
    "data = data[0]\n",
    "data.shape"
   ]
  },
  {
   "cell_type": "code",
   "execution_count": 79,
   "metadata": {},
   "outputs": [],
   "source": [
    "data = np.nan_to_num(data, nan=0.0)  # replace nan with 0\n",
    "data = np.clip(data, -1e6, 1e6)  # clip max and min values\n",
    "from scipy.stats import zscore\n",
    "# data = zscore(data, axis=0)\n",
    "\n",
    "all_parcel_data = []\n",
    "n_parcels = 1000\n",
    "# Initialize output (timepoints, parcels, subjects)\n",
    "parcel_ts = np.zeros((data.shape[0], n_parcels, data.shape[2]))\n",
    "\n",
    "# Loop over each subject independently\n",
    "for subj_idx in range(data.shape[2]):\n",
    "    for parcel_id in range(1, n_parcels + 1):\n",
    "        parcel_voxels = np.where(masked_parc == parcel_id)[0]\n",
    "        if parcel_voxels.size > 0:\n",
    "            parcel_ts[:, parcel_id - 1, subj_idx] = np.mean(data[:, parcel_voxels, subj_idx], axis=1)\n",
    "\n",
    "all_parcel_data.append(parcel_ts)  # Shape: (454, 1000, 27)\n",
    "\n",
    "# Convert to NumPy array (optional)\n",
    "all_parcel_data = np.array(all_parcel_data)[0]  # Shape: (num_subjects, 454, 1000, 27)\n"
   ]
  },
  {
   "cell_type": "code",
   "execution_count": 147,
   "metadata": {},
   "outputs": [
    {
     "data": {
      "text/plain": [
       "(454, 1000, 27)"
      ]
     },
     "execution_count": 147,
     "metadata": {},
     "output_type": "execute_result"
    }
   ],
   "source": [
    "all_parcel_data.shape"
   ]
  },
  {
   "cell_type": "code",
   "execution_count": 81,
   "metadata": {},
   "outputs": [],
   "source": [
    "isc_data_path = f\"{data_path}/bold_roi/all_func_data_parcellated\"\n",
    "# all_parcel_data = np.array(all_parcel_data).transpose(1,2,0)\n",
    "# if not os.path.exists(isc_data_path):\n",
    "# np.save(isc_data_path, all_parcel_data)"
   ]
  },
  {
   "cell_type": "code",
   "execution_count": 82,
   "metadata": {},
   "outputs": [
    {
     "name": "stdout",
     "output_type": "stream",
     "text": [
      "NaN count in data: 0\n",
      "Inf count in data: 0\n",
      "Max value in data: 155177.109375\n",
      "Min value in data: -385416.625\n"
     ]
    },
    {
     "data": {
      "text/plain": [
       "(454, 1000, 27)"
      ]
     },
     "execution_count": 82,
     "metadata": {},
     "output_type": "execute_result"
    }
   ],
   "source": [
    "print(\"NaN count in data:\", np.isnan(all_parcel_data).sum())\n",
    "print(\"Inf count in data:\", np.isinf(all_parcel_data).sum())\n",
    "print(\"Max value in data:\", np.nanmax(all_parcel_data))  # Use nanmax to avoid NaN issues\n",
    "print(\"Min value in data:\", np.nanmin(all_parcel_data))\n",
    "all_parcel_data.shape"
   ]
  },
  {
   "cell_type": "code",
   "execution_count": 83,
   "metadata": {},
   "outputs": [
    {
     "data": {
      "text/plain": [
       "(454, 1000, 27)"
      ]
     },
     "execution_count": 83,
     "metadata": {},
     "output_type": "execute_result"
    }
   ],
   "source": [
    "all_parcel_data = zscore(all_parcel_data, axis=0)\n",
    "all_parcel_data.shape"
   ]
  },
  {
   "cell_type": "code",
   "execution_count": 90,
   "metadata": {},
   "outputs": [],
   "source": [
    "# compute standard temporal ISC parcelwise using a leave-one-out approach\n",
    "parcel_isc = isc(all_parcel_data)\n",
    "np.save(f\"{isc_data_path}_isc\", parcel_isc)"
   ]
  },
  {
   "cell_type": "code",
   "execution_count": 94,
   "metadata": {},
   "outputs": [
    {
     "data": {
      "text/plain": [
       "(27, 1000)"
      ]
     },
     "execution_count": 94,
     "metadata": {},
     "output_type": "execute_result"
    }
   ],
   "source": [
    "parcel_isc.shape"
   ]
  },
  {
   "cell_type": "code",
   "execution_count": 99,
   "metadata": {},
   "outputs": [],
   "source": [
    "del load_boolean_mask\n",
    "import importlib\n",
    "importlib.reload(isc_standalone)\n",
    "from isc_standalone import load_boolean_mask\n",
    "mask_name = f\"{roi_mask_path}/wholebrain.nii.gz\"\n",
    "\n",
    "# code from https://brainiak.org/tutorials/10-isc/\n",
    "# Load the brain mask\n",
    "brain_mask = load_boolean_mask(mask_name)\n",
    "\n",
    "# Get the list of nonzero voxel coordinates\n",
    "coords = np.where(brain_mask)\n",
    "\n",
    "brain_nii = nib.load(mask_name)"
   ]
  },
  {
   "cell_type": "code",
   "execution_count": 100,
   "metadata": {},
   "outputs": [
    {
     "data": {
      "text/plain": [
       "(228483,)"
      ]
     },
     "execution_count": 100,
     "metadata": {},
     "output_type": "execute_result"
    }
   ],
   "source": [
    "coords[2].shape"
   ]
  },
  {
   "cell_type": "code",
   "execution_count": 107,
   "metadata": {},
   "outputs": [
    {
     "data": {
      "text/plain": [
       "(27, 1000)"
      ]
     },
     "execution_count": 107,
     "metadata": {},
     "output_type": "execute_result"
    }
   ],
   "source": [
    "parcel_isc.shape"
   ]
  },
  {
   "cell_type": "code",
   "execution_count": 135,
   "metadata": {},
   "outputs": [
    {
     "data": {
      "text/plain": [
       "((91, 109, 91), (228483,), (91, 109, 91))"
      ]
     },
     "execution_count": 135,
     "metadata": {},
     "output_type": "execute_result"
    }
   ],
   "source": [
    "mask.shape, masked_parc.shape, parc.shape"
   ]
  },
  {
   "cell_type": "code",
   "execution_count": 110,
   "metadata": {},
   "outputs": [
    {
     "data": {
      "text/plain": [
       "(228483,)"
      ]
     },
     "execution_count": 110,
     "metadata": {},
     "output_type": "execute_result"
    }
   ],
   "source": [
    "brain = np.zeros((brain_nii.shape))\n",
    "for parcel_id in range(1, n_parcels + 1):\n",
    "    parcel_voxels = np.where(masked_parc == parcel_id)[0]\n",
    "    if parcel_voxels.size > 0:\n",
    "        brain[:, parcel_id - 1] = np.mean(data[:, parcel_voxels], axis=1)\n"
   ]
  },
  {
   "cell_type": "code",
   "execution_count": 148,
   "metadata": {},
   "outputs": [
    {
     "data": {
      "text/plain": [
       "(91, 109, 91)"
      ]
     },
     "execution_count": 148,
     "metadata": {},
     "output_type": "execute_result"
    }
   ],
   "source": [
    "parc.shape"
   ]
  },
  {
   "cell_type": "code",
   "execution_count": 149,
   "metadata": {},
   "outputs": [],
   "source": [
    "from nilearn.masking import unmask"
   ]
  },
  {
   "cell_type": "code",
   "execution_count": 180,
   "metadata": {},
   "outputs": [
    {
     "data": {
      "text/plain": [
       "228483"
      ]
     },
     "execution_count": 180,
     "metadata": {},
     "output_type": "execute_result"
    }
   ],
   "source": [
    "mask.sum()"
   ]
  },
  {
   "cell_type": "code",
   "execution_count": 175,
   "metadata": {},
   "outputs": [
    {
     "data": {
      "text/plain": [
       "(91, 109, 91)"
      ]
     },
     "execution_count": 175,
     "metadata": {},
     "output_type": "execute_result"
    }
   ],
   "source": [
    "x = parc.get_fdata()\n",
    "x.shape"
   ]
  },
  {
   "cell_type": "code",
   "execution_count": 173,
   "metadata": {},
   "outputs": [
    {
     "data": {
      "text/plain": [
       "132032"
      ]
     },
     "execution_count": 173,
     "metadata": {},
     "output_type": "execute_result"
    }
   ],
   "source": [
    "x.astype(bool).sum()"
   ]
  },
  {
   "cell_type": "code",
   "execution_count": 183,
   "metadata": {},
   "outputs": [
    {
     "data": {
      "text/plain": [
       "(91, 109, 91)"
      ]
     },
     "execution_count": 183,
     "metadata": {},
     "output_type": "execute_result"
    }
   ],
   "source": [
    "isc_volume.shape"
   ]
  },
  {
   "cell_type": "code",
   "execution_count": null,
   "metadata": {},
   "outputs": [
    {
     "data": {
      "text/plain": [
       "array([0., 0., 0., 0., 0., 0., 0., 0., 0., 0., 0., 0., 0., 0., 0., 0., 0.,\n",
       "       0., 0., 0., 0., 0., 0., 0., 0., 0., 0., 0., 0., 0., 0., 0., 0., 0.,\n",
       "       0., 0., 0., 0., 0., 0., 0., 0., 0., 0., 0., 0., 0., 0., 0., 0., 0.,\n",
       "       0., 0., 0., 0., 0., 0., 0., 0., 0., 0., 0., 0., 0., 0., 0., 0., 0.,\n",
       "       0., 0., 0., 0., 0., 0., 0., 0., 0., 0., 0., 0., 0., 0., 0., 0., 0.,\n",
       "       0., 0., 0., 0., 0., 0., 0., 0., 0., 0., 0., 0., 0., 0., 0., 0., 0.,\n",
       "       0., 0., 0., 0., 0., 0., 0., 0., 0., 0., 0., 0., 0., 0., 0., 0., 0.,\n",
       "       0., 0., 0., 0., 0., 0., 0., 0., 0., 0., 0., 0., 0., 0., 0., 0., 0.,\n",
       "       0., 0., 0., 0., 0., 0., 0., 0., 0., 0., 0., 0., 0., 0., 0., 0., 0.,\n",
       "       0., 0., 0., 0., 0., 0., 0., 0., 0., 0., 0., 0., 0., 0., 0., 0., 0.,\n",
       "       0., 0., 0., 0., 0., 0., 0., 0., 0., 0., 0., 0., 0., 0., 0., 0., 0.,\n",
       "       0., 0., 0., 0., 0., 0., 0., 0., 0., 0., 0., 0., 0., 0., 0.])"
      ]
     },
     "execution_count": 190,
     "metadata": {},
     "output_type": "execute_result"
    }
   ],
   "source": [
    "isc_volume[parc.get_fdata() == parcel_id]"
   ]
  },
  {
   "cell_type": "code",
   "execution_count": 203,
   "metadata": {},
   "outputs": [],
   "source": [
    "x = parcel_isc.mean(axis=0)"
   ]
  },
  {
   "cell_type": "code",
   "execution_count": 205,
   "metadata": {},
   "outputs": [],
   "source": [
    "isc_volume = np.zeros((91, 109, 91))\n",
    "\n",
    "# Fill each parcel with its ISC value\n",
    "for parcel_id in range(1, 1001):\n",
    "    isc_volume[parc.get_fdata() == parcel_id] = x[parcel_id - 1]\n",
    "\n",
    "# Create NIFTI image (assuming you have an original NIFTI to get the affine from)\n",
    "isc_nii = nib.Nifti1Image(isc_volume, parc.affine)"
   ]
  },
  {
   "cell_type": "code",
   "execution_count": 218,
   "metadata": {},
   "outputs": [
    {
     "data": {
      "image/png": "[encoded data removed]",
      "text/plain": [
       "<Figure size 1200x500 with 5 Axes>"
      ]
     },
     "metadata": {},
     "output_type": "display_data"
    }
   ],
   "source": [
    "from nilearn import plotting\n",
    "f, ax = plt.subplots(1,1, figsize = (12, 5))\n",
    "plotting.plot_stat_map(\n",
    "    isc_nii, \n",
    "    axes=ax\n",
    ")\n",
    "plt.show()"
   ]
  },
  {
   "cell_type": "code",
   "execution_count": 211,
   "metadata": {},
   "outputs": [
    {
     "data": {
      "text/plain": [
       "'/Volumes/BCI/Ambivalent_Affect/RishabISC/ISC/data/onesmallstep'"
      ]
     },
     "execution_count": 211,
     "metadata": {},
     "output_type": "execute_result"
    }
   ],
   "source": [
    "data_path"
   ]
  },
  {
   "cell_type": "code",
   "execution_count": 213,
   "metadata": {},
   "outputs": [],
   "source": [
    "nib.save(isc_nii, f\"{data_path}/mean_isc_1000parcels\")"
   ]
  }
 ],
 "metadata": {
  "kernelspec": {
   "display_name": "Python 3 (ipykernel)",
   "language": "python",
   "name": "python3"
  },
  "language_info": {
   "codemirror_mode": {
    "name": "ipython",
    "version": 3
   },
   "file_extension": ".py",
   "mimetype": "text/x-python",
   "name": "python",
   "nbconvert_exporter": "python",
   "pygments_lexer": "ipython3",
   "version": "3.11.9"
  }
 },
 "nbformat": 4,
 "nbformat_minor": 4
}
