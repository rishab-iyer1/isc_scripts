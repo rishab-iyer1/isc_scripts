{
 "cells": [
  {
   "cell_type": "code",
   "execution_count": 2,
   "metadata": {},
   "outputs": [],
   "source": [
    "import os\n",
    "import pickle\n",
    "from concurrent.futures import ThreadPoolExecutor, as_completed\n",
    "import cProfile\n",
    "import time\n",
    "from glob import glob\n",
    "from os.path import join\n",
    "import numpy as np\n",
    "import matplotlib.pyplot as plt\n",
    "from tqdm import tqdm\n",
    "from sklearn.linear_model import RidgeCV\n",
    "from isc_standalone import p_from_null\n",
    "from ISC_Helper import get_rois, _compute_phaseshift_sliding_isc, load_roi_data, parcellate_bold, load_schaeffer1000, parcel_to_nifti\n",
    "from statsmodels.stats.multitest import multipletests\n",
    "# %matplotlib inline"
   ]
  },
  {
   "cell_type": "code",
   "execution_count": 3,
   "metadata": {},
   "outputs": [],
   "source": [
    "task = 'onesmallstep'\n",
    "# roi_selected = ['visualcortex', 'auditory', 'vmPFC', 'ACC', 'PCC', 'insula', 'amygdala', 'NA']\n",
    "roi_selected = ['wholebrain']\n",
    "# emotions = ['P', 'N', 'M', 'X', 'Cry']  # Positive, Negative, Mixed, Neutral, Cry\n",
    "emotions = ['P', 'N', 'M']\n",
    "parcellate = True\n",
    "avg_over_roi = False\n",
    "spatial = False\n",
    "pairwise = False\n",
    "random_state = None\n",
    "window_size = 30\n",
    "step_size = 5\n",
    "\n",
    "if task == 'toystory':\n",
    "    n_trs = 274\n",
    "    n_shifts = 1024\n",
    "elif task == 'onesmallstep':\n",
    "    n_trs = 454\n",
    "    n_shifts = 1024\n",
    "else:\n",
    "    raise Exception('task not defined')\n",
    "n_windows = int((n_trs - window_size) / step_size) + 1\n",
    "\n",
    "smooth = 'smooth'\n",
    "avg_over_roi_name = \"avg\" if avg_over_roi else \"voxelwise\"\n",
    "spatial_name = \"spatial\" if spatial else \"temporal\"\n",
    "pairwise_name = \"pairwise\" if pairwise else \"group\"\n",
    "\n",
    "# -------------------------------\n",
    "# File paths\n",
    "# -------------------------------\n",
    "amb_aff_path = '/Volumes/BCI/Ambivalent_Affect'\n",
    "# amb_aff_path = '/Volumes/BCI-1/Ambivalent_Affect'\n",
    "if task == 'toystory':\n",
    "    data_dir_func = f'{amb_aff_path}/fMRI_Study/ISC_Data/ToyStoryNuisanceRegressed'\n",
    "elif task == 'onesmallstep':\n",
    "    data_dir_func = f'{amb_aff_path}/fMRI_Study/ISC_Data_cut/NuisanceRegressed'\n",
    "else:\n",
    "    raise ValueError('Invalid task')\n",
    "func_fns = glob(join(data_dir_func, 'P?.nii.gz')) + glob(join(data_dir_func, 'N?.nii.gz')) + \\\n",
    "           glob(join(data_dir_func, 'VR?.nii.gz')) + glob(join(data_dir_func, 'P??.nii.gz')) + \\\n",
    "           glob(join(data_dir_func, 'N??.nii.gz')) + glob(join(data_dir_func, 'VR??.nii.gz'))\n",
    "\n",
    "if task == 'toystory':\n",
    "    # remove VR7 and 8 temporarily for testing because they are 295 not 300 TRs\n",
    "    func_fns = [fn for fn in func_fns if 'VR7' not in fn and 'VR8' not in fn]\n",
    "    label_dir = f'{amb_aff_path}/fMRI_Study/VideoLabelling/Toy_Story_Labelled'\n",
    "elif task == 'onesmallstep':\n",
    "    label_dir = f'{amb_aff_path}/fMRI_Study/VideoLabelling/OSS_Labelled'\n",
    "\n",
    "subj_ids = [str(subj).split('/')[-1].split('.')[0] for subj in func_fns]  # assume BIDS format\n",
    "subj_ids.sort()\n",
    "\n",
    "roi_mask_path = f'{amb_aff_path}/rois'\n",
    "all_roi_fpaths = glob(os.path.join(roi_mask_path, '*.nii*'))\n",
    "all_roi_masker = get_rois(all_roi_fpaths)\n",
    "data_path = f'{amb_aff_path}/RishabISC/ISC/data/{task}'\n",
    "figure_path = f'{amb_aff_path}/RishabISC/ISC/figures/{task}'\n",
    "parc_path = f\"{data_path}/../rois/schaefer_2018/Schaefer2018_1000Parcels_17Networks_order_FSLMNI152_2mm.nii.gz\"\n",
    "mask_path = f\"{data_path}/mask_img.npy\"\n",
    "\n",
    "isc_path = f\"{data_path}/isc_sliding_{pairwise_name}_n{len(subj_ids)}_{avg_over_roi_name}_roi{len(roi_selected)}_\" \\\n",
    "           f\"window{window_size}_step{step_size}.pkl\"\n",
    "\n",
    "sliding_perm_path = f\"{data_path}/sliding_isc/permutations/phaseshift_size{window_size}_step{step_size}\"\n",
    "if parcellate:\n",
    "    assert avg_over_roi is False\n",
    "    sliding_perm_path += \"parcellated\"\n",
    "    n_parcels = 1000\n",
    "    parc, masked_parc = load_schaeffer1000(parc_path, mask_path)"
   ]
  },
  {
   "cell_type": "code",
   "execution_count": 4,
   "metadata": {},
   "outputs": [
    {
     "name": "stdout",
     "output_type": "stream",
     "text": [
      "permutations loaded from file\n",
      " /Volumes/BCI/Ambivalent_Affect/RishabISC/ISC/data/onesmallstep/sliding_isc/permutations/phaseshift_size30_step5parcellated_1024perms_1rois_x\n"
     ]
    }
   ],
   "source": [
    "# if task == 'onesmallstep':\n",
    "# roi_selected = roi_selected[1:]\n",
    "\n",
    "save_path = f\"{sliding_perm_path}_{n_shifts}perms_{len(roi_selected)}rois_x\"\n",
    "with open(save_path, 'rb') as f:\n",
    "    x = pickle.load(f)\n",
    "    print('permutations loaded from file\\n', save_path)\n",
    "\n",
    "assert list(x.keys()) == roi_selected"
   ]
  },
  {
   "cell_type": "code",
   "execution_count": 5,
   "metadata": {},
   "outputs": [
    {
     "data": {
      "text/plain": [
       "(1024, 85, 1000)"
      ]
     },
     "execution_count": 5,
     "metadata": {},
     "output_type": "execute_result"
    }
   ],
   "source": [
    "x[roi_selected[0]][2].shape"
   ]
  },
  {
   "cell_type": "code",
   "execution_count": 6,
   "metadata": {},
   "outputs": [
    {
     "name": "stdout",
     "output_type": "stream",
     "text": [
      "shape before trimming: (28, 484, 5)\n",
      "shape after trimming: (28, 454, 5)\n"
     ]
    }
   ],
   "source": [
    "label_dir = '/Users/bciuser/Desktop/VideoLabelling'\n",
    "coded_states = np.load(f'{label_dir}/coded_states_{task}.npy')\n",
    "print('shape before trimming:', coded_states.shape)\n",
    "if task == 'onesmallstep':\n",
    "    coded_states = coded_states[:, :-30]\n",
    "elif task == 'toystory':\n",
    "    coded_states = coded_states[:, :-26]    \n",
    "    \n",
    "print('shape after trimming:', coded_states.shape)\n"
   ]
  },
  {
   "cell_type": "code",
   "execution_count": 7,
   "metadata": {},
   "outputs": [],
   "source": [
    "timepoint_variance = np.var(coded_states[:, :n_trs, :], axis=0)  # shape=(n_trs, n_emotions)\n",
    "\n",
    "# Initialize sliding window output\n",
    "slide_behav = np.zeros((n_windows, timepoint_variance.shape[1]))\n",
    "\n",
    "# Calculate mean variance within each sliding window\n",
    "for i in range(n_windows):\n",
    "    start_idx = i * step_size\n",
    "    end_idx = start_idx + window_size\n",
    "    slide_behav[i] = np.mean(timepoint_variance[start_idx:end_idx], axis=0)"
   ]
  },
  {
   "cell_type": "code",
   "execution_count": 8,
   "metadata": {},
   "outputs": [
    {
     "name": "stdout",
     "output_type": "stream",
     "text": [
      "shape before removing: (85, 5)\n",
      "shape after removing: (85, 3)\n"
     ]
    }
   ],
   "source": [
    "print('shape before removing:', slide_behav.shape)  # 8 rois, shape=(n_windows, n_emotions)\n",
    "# remove crying and neutral to just focus on pos, neg, mix, for 8 rois\n",
    "slide_behav = slide_behav[:, :3]\n",
    "# slide_behav = np.delete(slide_behav, 3, axis=1)  # remove neutral\n",
    "emotions = ['P', 'N', 'M', 'X', 'Cry']\n",
    "emotions = emotions[:3]\n",
    "print('shape after removing:', slide_behav.shape)"
   ]
  },
  {
   "cell_type": "code",
   "execution_count": 9,
   "metadata": {},
   "outputs": [],
   "source": [
    "# test = np.zeros_like(slide_behav)\n",
    "# print(test.shape)\n",
    "# test = np.delete(test, 3, axis=1)\n",
    "# print(test.shape)"
   ]
  },
  {
   "cell_type": "code",
   "execution_count": 10,
   "metadata": {},
   "outputs": [],
   "source": [
    "# trim fmri data to match slide_behav\n",
    "# x is a dict with keys as roi names and values as lists of observed, p, distribution\n",
    "# trim the -2th dimension of all lists\n",
    "# from copy import deepcopy\n",
    "# tmp = deepcopy(x)\n",
    "# for roi_name, roi_data in x.items():\n",
    "#     for i in range(len(roi_data)):\n",
    "#         if i != 2:\n",
    "#             x[roi_name][i] = roi_data[i][:-6]\n",
    "#         else:\n",
    "#             x[roi_name][i] = roi_data[i][:, :-6]"
   ]
  },
  {
   "cell_type": "code",
   "execution_count": 11,
   "metadata": {},
   "outputs": [],
   "source": [
    "# print(x.keys(), x['PCC'][0].shape, x['PCC'][1].shape, x['PCC'][2].shape)\n",
    "# print('slide_behav:', slide_behav.shape)"
   ]
  },
  {
   "cell_type": "markdown",
   "metadata": {},
   "source": [
    "Now that the data is formatted for regression, test the assumptions of linear regression "
   ]
  },
  {
   "cell_type": "code",
   "execution_count": 12,
   "metadata": {},
   "outputs": [],
   "source": [
    "# roi_data[2].shape"
   ]
  },
  {
   "cell_type": "code",
   "execution_count": 13,
   "metadata": {},
   "outputs": [],
   "source": [
    "# # 1. Linearity (correlation between ISC and behavior)\n",
    "# from scipy.stats import pearsonr\n",
    "# pearsonr_list = []\n",
    "# for roi_name, roi_data in x.items():\n",
    "#     # print(roi_data[0][:,0].shape, slide_behav[:, 0].shape)\n",
    "#     pearsonr_list.append(pearsonr(roi_data[0][:,0], slide_behav[:, 0])[0])\n",
    "#     pearsonr_list.append(pearsonr(roi_data[0][:,0], slide_behav[:, 1])[0])\n",
    "#     pearsonr_list.append(pearsonr(roi_data[0][:,0], slide_behav[:, 2])[0])\n",
    "\n",
    "# print()\n",
    "# print('pearsonr_list:', len(pearsonr_list))\n",
    "# print('mean:', np.mean(pearsonr_list))\n",
    "# print('std:', np.std(pearsonr_list))"
   ]
  },
  {
   "cell_type": "code",
   "execution_count": 14,
   "metadata": {},
   "outputs": [
    {
     "data": {
      "text/plain": [
       "(1024, 85, 1000)"
      ]
     },
     "execution_count": 14,
     "metadata": {},
     "output_type": "execute_result"
    }
   ],
   "source": [
    "x['wholebrain'][2].shape"
   ]
  },
  {
   "cell_type": "code",
   "execution_count": 15,
   "metadata": {
    "scrolled": true
   },
   "outputs": [],
   "source": [
    "if parcellate:\n",
    "    true_coefs = np.empty(shape=(n_parcels, len(emotions)))\n",
    "    true_means = []\n",
    "    true_stds = []\n",
    "    true_r2s = []\n",
    "    for parcel in range(n_parcels):\n",
    "        true_isc_data = x['wholebrain'][0][:, parcel]  # observed, only need p and distribution for perm testing ISC\n",
    "        alpha_range = np.logspace(-3, 3, 100)\n",
    "        model = RidgeCV(alphas=alpha_range, store_cv_results=True)\n",
    "        results = model.fit(slide_behav, true_isc_data)\n",
    "        mses = results.cv_results_\n",
    "        true_coefs[parcel] = results.coef_\n",
    "        mean_mses = np.mean(mses, axis=0)\n",
    "        std_mses = np.std(mses, axis=0)\n",
    "\n",
    "        true_means.append(mean_mses[np.argmin(mean_mses)])\n",
    "        true_stds.append(std_mses[np.argmin(std_mses)])\n",
    "        true_r2s.append(model.score(slide_behav, true_isc_data))\n",
    "    # [print(f\"emotion consensus explains {true_r2s[r]:.2f} of variance in {roi} synchrony\") for r, roi in enumerate(roi_selected)]\n",
    "else:\n",
    "    true_coefs = np.empty(shape=(len(roi_selected), len(emotions)))\n",
    "    true_means = []\n",
    "    true_stds = []\n",
    "    true_r2s = []\n",
    "    for r, roi in enumerate(roi_selected):\n",
    "        true_isc_data = x[roi][0].flatten()  # observed, only need p and distribution for perm testing ISC\n",
    "        alpha_range = np.logspace(-3, 3, 100)\n",
    "        model = RidgeCV(alphas=alpha_range, store_cv_results=True)\n",
    "        results = model.fit(slide_behav, true_isc_data)\n",
    "        mses = results.cv_results_\n",
    "        true_coefs[r] = results.coef_\n",
    "        mean_mses = np.mean(mses, axis=0)\n",
    "        std_mses = np.std(mses, axis=0)\n",
    "\n",
    "        true_means.append(mean_mses[np.argmin(mean_mses)])\n",
    "        true_stds.append(std_mses[np.argmin(std_mses)])\n",
    "        true_r2s.append(model.score(slide_behav, true_isc_data))\n",
    "    [print(f\"emotion consensus explains {true_r2s[r]:.2f} of variance in {roi} synchrony\") for r, roi in enumerate(roi_selected)]"
   ]
  },
  {
   "cell_type": "code",
   "execution_count": 36,
   "metadata": {},
   "outputs": [
    {
     "data": {
      "text/plain": [
       "(1000,)"
      ]
     },
     "execution_count": 36,
     "metadata": {},
     "output_type": "execute_result"
    }
   ],
   "source": [
    "x['wholebrain'][0][0].shape"
   ]
  },
  {
   "cell_type": "code",
   "execution_count": 17,
   "metadata": {},
   "outputs": [
    {
     "name": "stderr",
     "output_type": "stream",
     "text": [
      "100%|████████████████████████████████████████| 1000/1000 [30:50<00:00,  1.85s/it]\n"
     ]
    }
   ],
   "source": [
    "if parcellate:\n",
    "    perm_coefs = np.empty(shape=(n_parcels, n_shifts, len(emotions)))\n",
    "    perm_means = []\n",
    "    perm_stds = []\n",
    "    perm_r2s = np.empty(shape=(n_parcels, n_shifts))\n",
    "\n",
    "    for parcel in tqdm(range(n_parcels), total=n_parcels):\n",
    "        coefs = []\n",
    "        means = []\n",
    "        stds = []\n",
    "        r2s = []\n",
    "        for perm in range(n_shifts):\n",
    "            shifted_isc_data = x['wholebrain'][-1][perm][:, parcel]  # observed, only need p and distribution for perm testing ISC\n",
    "            alpha_range = np.logspace(-3, 3, 100)\n",
    "            model = RidgeCV(alphas=alpha_range, store_cv_results=True)\n",
    "            results = model.fit(slide_behav, shifted_isc_data)\n",
    "            mses = results.cv_results_  # contains mean squared error for each alpha\n",
    "            mean_mses = np.mean(mses, axis=0)\n",
    "            std_mses = np.std(mses, axis=0)\n",
    "\n",
    "            coefs.append(results.coef_)\n",
    "            means.append(mean_mses[np.argmin(mean_mses)])\n",
    "            stds.append(std_mses[np.argmin(std_mses)])\n",
    "            r2s.append(model.score(slide_behav, shifted_isc_data))\n",
    "\n",
    "        perm_coefs[parcel] = coefs\n",
    "        perm_means.append(means)\n",
    "        perm_stds.append(stds)\n",
    "        perm_r2s[parcel] = r2s\n",
    "else:\n",
    "    perm_coefs = np.empty(shape=(len(roi_selected), n_shifts, len(emotions)))\n",
    "    perm_means = []\n",
    "    perm_stds = []\n",
    "    perm_r2s = np.empty(shape=(len(roi_selected), n_shifts))\n",
    "\n",
    "    for r, roi in tqdm(enumerate(roi_selected), total=len(roi_selected)):\n",
    "        coefs = []\n",
    "        means = []\n",
    "        stds = []\n",
    "        r2s = []\n",
    "        for perm in range(n_shifts):\n",
    "            shifted_isc_data = x[roi][-1][perm].flatten()  # observed, only need p and distribution for perm testing ISC\n",
    "            alpha_range = np.logspace(-3, 3, 100)\n",
    "            model = RidgeCV(alphas=alpha_range, store_cv_results=True)\n",
    "            results = model.fit(slide_behav, shifted_isc_data)\n",
    "            mses = results.cv_results_  # contains mean squared error for each alpha\n",
    "            mean_mses = np.mean(mses, axis=0)\n",
    "            std_mses = np.std(mses, axis=0)\n",
    "\n",
    "            coefs.append(results.coef_)\n",
    "            means.append(mean_mses[np.argmin(mean_mses)])\n",
    "            stds.append(std_mses[np.argmin(std_mses)])\n",
    "            r2s.append(model.score(slide_behav, shifted_isc_data))\n",
    "\n",
    "        perm_coefs[r] = coefs\n",
    "        perm_means.append(means)\n",
    "        perm_stds.append(stds)\n",
    "        perm_r2s[r] = r2s\n"
   ]
  },
  {
   "cell_type": "code",
   "execution_count": 18,
   "metadata": {},
   "outputs": [],
   "source": [
    "# if parcellate:\n",
    "#     from concurrent.futures import ProcessPoolExecutor\n",
    "#     def process_shift(args):\n",
    "#         \"\"\"\n",
    "#         Process a single shift for a given parcel\n",
    "        \n",
    "#         Args:\n",
    "#             args: tuple containing (shift_data, slide_behav, alpha_range)\n",
    "            \n",
    "#         Returns:\n",
    "#             tuple of (coefficients, mean_mse, std_mse, r2_score)\n",
    "#         \"\"\"\n",
    "#         shifted_isc_data, slide_behav, alpha_range = args\n",
    "        \n",
    "#         model = RidgeCV(alphas=alpha_range, store_cv_results=True)\n",
    "#         results = model.fit(slide_behav, shifted_isc_data)\n",
    "        \n",
    "#         mses = results.cv_values_  # contains mean squared error for each alpha\n",
    "#         mean_mses = np.mean(mses, axis=0)\n",
    "#         std_mses = np.std(mses, axis=0)\n",
    "        \n",
    "#         return (\n",
    "#             results.coef_,\n",
    "#             mean_mses[np.argmin(mean_mses)],\n",
    "#             std_mses[np.argmin(std_mses)],\n",
    "#             model.score(slide_behav, shifted_isc_data)\n",
    "#         )\n",
    "\n",
    "#     def parallel_ridge_cv(x, slide_behav, n_parcels, n_shifts, emotions, max_workers=None):\n",
    "#         \"\"\"\n",
    "#         Run RidgeCV in parallel across parcels and shifts\n",
    "        \n",
    "#         Args:\n",
    "#             x: Input data dictionary containing wholebrain data\n",
    "#             slide_behav: Behavioral data\n",
    "#             n_parcels: Number of parcels\n",
    "#             n_shifts: Number of shifts\n",
    "#             emotions: List of emotions\n",
    "#             max_workers: Maximum number of parallel workers (defaults to number of CPU cores)\n",
    "        \n",
    "#         Returns:\n",
    "#             tuple of (perm_coefs, perm_means, perm_stds, perm_r2s)\n",
    "#         \"\"\"\n",
    "#         perm_coefs = np.empty(shape=(n_parcels, n_shifts, len(emotions)))\n",
    "#         perm_means = []\n",
    "#         perm_stds = []\n",
    "#         perm_r2s = np.empty(shape=(n_parcels, n_shifts))\n",
    "        \n",
    "#         alpha_range = np.logspace(-3, 3, 100)\n",
    "        \n",
    "#         for parcel in tqdm(range(n_parcels), total=n_parcels):\n",
    "#             # Prepare all shift data for this parcel\n",
    "#             shift_data = [\n",
    "#                 (x['wholebrain'][-1][perm][:, parcel], slide_behav, alpha_range)\n",
    "#                 for perm in range(n_shifts)\n",
    "#             ]\n",
    "            \n",
    "#             # Process all shifts for this parcel in parallel\n",
    "#             with ProcessPoolExecutor(max_workers=max_workers) as executor:\n",
    "#                 results = list(executor.map(process_shift, shift_data))\n",
    "            \n",
    "#             # Unpack results\n",
    "#             coefs, means, stds, r2s = zip(*results)\n",
    "            \n",
    "#             perm_coefs[parcel] = coefs\n",
    "#             perm_means.append(means)\n",
    "#             perm_stds.append(stds)\n",
    "#             perm_r2s[parcel] = r2s\n",
    "        \n",
    "#         return perm_coefs, perm_means, perm_stds, perm_r2s\n"
   ]
  },
  {
   "cell_type": "code",
   "execution_count": 19,
   "metadata": {
    "scrolled": true
   },
   "outputs": [],
   "source": [
    "# if parcellate:\n",
    "#     if __name__ == '__main__':\n",
    "#         perm_coefs, perm_means, perm_stds, perm_r2s = parallel_ridge_cv(\n",
    "#             x=x,\n",
    "#             slide_behav=slide_behav,\n",
    "#             n_parcels=n_parcels,\n",
    "#             n_shifts=n_shifts,\n",
    "#             emotions=emotions\n",
    "#         )"
   ]
  },
  {
   "cell_type": "code",
   "execution_count": 20,
   "metadata": {},
   "outputs": [
    {
     "name": "stderr",
     "output_type": "stream",
     "text": [
      "100%|█████████████████████████████████████| 1000/1000 [00:00<00:00, 33336.54it/s]\n"
     ]
    }
   ],
   "source": [
    "if parcellate:\n",
    "    p_coef = np.empty(shape=(n_parcels, len(emotions)))\n",
    "    p_mean = []\n",
    "    p_std = []\n",
    "    p_r2 = np.empty(shape=(n_parcels))\n",
    "    for parcel in tqdm(range(n_parcels), total=n_parcels):\n",
    "        for e, emo in enumerate(emotions):\n",
    "            p_coef[parcel][e] = (p_from_null(true_coefs[parcel, e], perm_coefs[parcel,:,e]))\n",
    "            # p_mean.append(p_from_null(true_means[r], perm_means[r]))\n",
    "            # p_std.append(p_from_null(true_stds[r], perm_stds[r]))\n",
    "            p_r2[parcel] = (p_from_null(true_r2s[parcel], perm_r2s[parcel]))\n",
    "\n",
    "        # p_coef.append(p_roi[roi])\n",
    "\n",
    "        # p_coef.append(p_from_null(true_coefs[r], perm_coefs[r]))\n",
    "        # p_mean.append(p_from_null(true_means[r], perm_means[r]))\n",
    "        # p_std.append(p_from_null(true_stds[r], perm_stds[r]))\n",
    "        # p_r2.append(p_from_null(true_r2s[r], perm_r2s[r]))\n",
    "\n",
    "    # return an FDR-corrected p-value map per emotion\n",
    "    p_fdr = np.empty(shape=p_coef.shape)\n",
    "    for e, emo in enumerate(emotions):\n",
    "        _, q, _, _ = multipletests(p_coef[:, e], alpha=0.05, method='fdr_bh')\n",
    "        p_fdr[:, e] = q\n",
    "else:\n",
    "    p_coef = np.empty(shape=(len(roi_selected), len(emotions)))\n",
    "    p_mean = []\n",
    "    p_std = []\n",
    "    p_r2 = np.empty(shape=(len(roi_selected)))\n",
    "    for r, roi in tqdm(enumerate(roi_selected), total=len(roi_selected)):\n",
    "        for e, emo in enumerate(emotions):\n",
    "            p_coef[r][e] = (p_from_null(true_coefs[r, e], perm_coefs[r,:,e]))\n",
    "            # p_mean.append(p_from_null(true_means[r], perm_means[r]))\n",
    "            # p_std.append(p_from_null(true_stds[r], perm_stds[r]))\n",
    "            p_r2[r] = (p_from_null(true_r2s[r], perm_r2s[r]))\n",
    "\n",
    "        # p_coef.append(p_roi[roi])\n",
    "\n",
    "        # p_coef.append(p_from_null(true_coefs[r], perm_coefs[r]))\n",
    "        # p_mean.append(p_from_null(true_means[r], perm_means[r]))\n",
    "        # p_std.append(p_from_null(true_stds[r], perm_stds[r]))\n",
    "        # p_r2.append(p_from_null(true_r2s[r], perm_r2s[r]))\n",
    "\n",
    "    # print the rois that are significant at p < 0.05 for each metric along with the value of the metric, rounded to 2 decimal places\n",
    "    for r, roi in tqdm(enumerate(roi_selected), total=len(roi_selected)):\n",
    "        for e, emo in enumerate(emotions):\n",
    "            if p_coef[r][e] < 0.05/len(roi_selected):\n",
    "                \n",
    "                print(f\"{roi}, {emo}: Coef = {true_coefs[r, e]:.2f}, p = {p_coef[r][e]:.2f}\")\n",
    "                # print(f\"{roi}: Coef = {true_coefs[r]:.2f}, p = {p_coef[r]:.2f}\")\n",
    "        # if p_mean[r] < 0.05:\n",
    "        #     print(f\"{roi}: Mean = {true_means[r]:.2f}, p = {p_mean[r]:.2f}\")\n",
    "        # if p_std[r] < 0.05:\n",
    "        #     print(f\"{roi}: Std = {true_stds[r]:.2f}, p = {p_std[r]:.2f}\")\n",
    "        if p_r2[r] < 0.05/len(roi_selected):\n",
    "            print(f\"{roi}: R2 = {true_r2s[r]:.2f}, p = {p_r2[r]:.2f}\")"
   ]
  },
  {
   "cell_type": "code",
   "execution_count": 83,
   "metadata": {},
   "outputs": [
    {
     "data": {
      "text/plain": [
       "array([[0.03364172, 0.01773836, 0.02075765],\n",
       "       [0.45084996, 0.09182209, 0.07138608],\n",
       "       [0.03364172, 0.01773836, 0.05738881],\n",
       "       [0.36363636, 0.04205214, 0.3646848 ],\n",
       "       [0.32830043, 0.19026414, 0.34112229],\n",
       "       [0.6122175 , 0.63998684, 0.88414634],\n",
       "       [0.8704196 , 0.8162765 , 0.8402439 ],\n",
       "       [0.94427325, 0.94718408, 0.97560976],\n",
       "       [0.95411153, 0.95444467, 0.9873759 ],\n",
       "       [0.39462867, 0.7508985 , 0.69463415]])"
      ]
     },
     "execution_count": 83,
     "metadata": {},
     "output_type": "execute_result"
    }
   ],
   "source": [
    "p_fdr[:10]"
   ]
  },
  {
   "cell_type": "code",
   "execution_count": 61,
   "metadata": {},
   "outputs": [
    {
     "data": {
      "text/plain": [
       "np.int64(89)"
      ]
     },
     "execution_count": 61,
     "metadata": {},
     "output_type": "execute_result"
    }
   ],
   "source": [
    "np.sum(p_fdr[:,2] < 0.05)"
   ]
  },
  {
   "cell_type": "code",
   "execution_count": 45,
   "metadata": {},
   "outputs": [
    {
     "data": {
      "text/plain": [
       "(91, 109, 91, 3)"
      ]
     },
     "execution_count": 45,
     "metadata": {},
     "output_type": "execute_result"
    }
   ],
   "source": [
    "img.shape"
   ]
  },
  {
   "cell_type": "code",
   "execution_count": 75,
   "metadata": {},
   "outputs": [],
   "source": [
    "import nibabel as nib\n",
    "parc = nib.load(parc_path)\n",
    "img = np.zeros(shape=((*parc.shape, len(emotions))))\n",
    "for p in range(1, n_parcels + 1):\n",
    "    mask = parc.get_fdata() == p  # location of current parcel\n",
    "    img[mask, :] = p_fdr[p - 1].T\n",
    "\n",
    "all_p = nib.Nifti1Image(img, parc.affine)"
   ]
  },
  {
   "cell_type": "code",
   "execution_count": 76,
   "metadata": {},
   "outputs": [
    {
     "data": {
      "text/plain": [
       "(91, 109, 91, 3)"
      ]
     },
     "execution_count": 76,
     "metadata": {},
     "output_type": "execute_result"
    }
   ],
   "source": [
    "all_p.shape"
   ]
  },
  {
   "cell_type": "code",
   "execution_count": 77,
   "metadata": {},
   "outputs": [],
   "source": [
    "nib.save(all_p, f\"{data_path}/emotion_pvals_corrected\")"
   ]
  },
  {
   "cell_type": "code",
   "execution_count": 78,
   "metadata": {},
   "outputs": [
    {
     "data": {
      "text/plain": [
       "(1000, 3)"
      ]
     },
     "execution_count": 78,
     "metadata": {},
     "output_type": "execute_result"
    }
   ],
   "source": [
    "p_coef.shape"
   ]
  },
  {
   "cell_type": "code",
   "execution_count": 87,
   "metadata": {},
   "outputs": [
    {
     "data": {
      "text/plain": [
       "(1000, 3)"
      ]
     },
     "execution_count": 87,
     "metadata": {},
     "output_type": "execute_result"
    }
   ],
   "source": [
    "true_coefs.shape"
   ]
  },
  {
   "cell_type": "code",
   "execution_count": 88,
   "metadata": {},
   "outputs": [],
   "source": [
    "p_coef_thresholded = np.where(p_fdr < 0.05, true_coefs, 0)"
   ]
  },
  {
   "cell_type": "code",
   "execution_count": 89,
   "metadata": {},
   "outputs": [
    {
     "data": {
      "text/plain": [
       "array([[-1.45715188, -1.63815049,  1.25123445],\n",
       "       [ 0.        ,  0.        ,  0.        ],\n",
       "       [-1.62669839, -2.18123741,  0.        ],\n",
       "       [ 0.        , -1.23198375,  0.        ],\n",
       "       [ 0.        ,  0.        ,  0.        ],\n",
       "       [ 0.        ,  0.        ,  0.        ],\n",
       "       [ 0.        ,  0.        ,  0.        ],\n",
       "       [ 0.        ,  0.        ,  0.        ],\n",
       "       [ 0.        ,  0.        ,  0.        ],\n",
       "       [ 0.        ,  0.        ,  0.        ]])"
      ]
     },
     "execution_count": 89,
     "metadata": {},
     "output_type": "execute_result"
    }
   ],
   "source": [
    "p_coef_thresholded[:10]"
   ]
  },
  {
   "cell_type": "code",
   "execution_count": 90,
   "metadata": {},
   "outputs": [],
   "source": [
    "coef = np.zeros(shape=((*parc.shape, len(emotions))))\n",
    "for p in range(1, n_parcels + 1):\n",
    "    mask = parc.get_fdata() == p  # location of current parcel\n",
    "    coef[mask, :] = p_coef_thresholded[p - 1].T\n",
    "\n",
    "coef_nii = nib.Nifti1Image(coef, parc.affine)"
   ]
  },
  {
   "cell_type": "code",
   "execution_count": 91,
   "metadata": {},
   "outputs": [],
   "source": [
    "nib.save(coef_nii, f\"{data_path}/emotion_betas_corrected\")"
   ]
  },
  {
   "cell_type": "code",
   "execution_count": 53,
   "metadata": {},
   "outputs": [],
   "source": [
    "# all_p = []\n",
    "# for e in range(len(emotions)):\n",
    "#     all_p.append(parcel_to_nifti(parc, n_parcels, p_fdr[:,e]))\n",
    "    "
   ]
  },
  {
   "cell_type": "code",
   "execution_count": null,
   "metadata": {},
   "outputs": [],
   "source": [
    "# p_r2, roi_selected"
   ]
  },
  {
   "cell_type": "code",
   "execution_count": 62,
   "metadata": {},
   "outputs": [
    {
     "name": "stdout",
     "output_type": "stream",
     "text": [
      "plotting true vs null dist\n"
     ]
    },
    {
     "name": "stderr",
     "output_type": "stream",
     "text": [
      "100%|██████████████████████████████████████████████| 3/3 [00:00<00:00, 18.17it/s]\n"
     ]
    },
    {
     "data": {
      "image/png": "[encoded data removed]",
      "text/plain": [
       "<Figure size 1500x1000 with 9 Axes>"
      ]
     },
     "metadata": {},
     "output_type": "display_data"
    }
   ],
   "source": [
    "if parcellate:\n",
    "    num_to_plot = 3\n",
    "    print('plotting true vs null dist')\n",
    "    plt.figure(figsize=(15, 10))\n",
    "    for parcel in tqdm(range(num_to_plot)):\n",
    "        for e, emo in enumerate(emotions):\n",
    "            plt.subplot(num_to_plot, len(emotions), parcel * len(emotions) + e + 1)\n",
    "            plt.hist(perm_coefs[parcel, :, e], bins=30, color='blue', alpha=0.5, label='Null Distribution')\n",
    "            plt.axvline(true_coefs[parcel, e], color='red', linestyle='dashed', linewidth=2, label='Actual Value')\n",
    "            plt.title(f\"{parcel} - {emo}\")\n",
    "            plt.xlabel('Coefficient Value')\n",
    "            plt.ylabel('Frequency')\n",
    "            plt.legend()\n",
    "\n",
    "    plt.tight_layout()\n",
    "# plt.savefig(f'{figure_path}/true_vs_null')\n",
    "else:\n",
    "    print('plotting true vs null dist')\n",
    "    plt.figure(figsize=(15, 10))\n",
    "    for r, roi in tqdm(enumerate(roi_selected), total=len(roi_selected)):\n",
    "        for e, emo in enumerate(emotions):\n",
    "            plt.subplot(len(roi_selected), len(emotions), r * len(emotions) + e + 1)\n",
    "            plt.hist(perm_coefs[r, :, e], bins=30, color='blue', alpha=0.5, label='Null Distribution')\n",
    "            plt.axvline(true_coefs[r, e], color='red', linestyle='dashed', linewidth=2, label='Actual Value')\n",
    "            plt.title(f\"{roi} - {emo}\")\n",
    "            plt.xlabel('Coefficient Value')\n",
    "            plt.ylabel('Frequency')\n",
    "            plt.legend()\n",
    "\n",
    "    plt.tight_layout()\n",
    "    # plt.savefig(f'{figure_path}/true_vs_null')"
   ]
  },
  {
   "cell_type": "code",
   "execution_count": null,
   "metadata": {},
   "outputs": [],
   "source": [
    "# plt.figure(figsize=(15, 10))\n",
    "# for e, emo in enumerate(emotions):\n",
    "#     plt.subplot(1, len(emotions), e + 1)\n",
    "#     plt.hist(perm_coefs[0, :, e], bins=100, color='blue', alpha=0.5, label='Null Distribution')\n",
    "#     plt.axvline(true_coefs[0, e], color='red', linestyle='dashed', linewidth=2, label='Actual Value')\n",
    "#     plt.title(f\"visualcortex - {emo}\")\n",
    "#     plt.xlabel('Coefficient Value')\n",
    "#     plt.ylabel('Frequency')\n",
    "#     plt.legend()\n",
    "# plt.show()\n",
    "# # plt.savefig(f'{figure_path}/PCC_corr')\n"
   ]
  },
  {
   "cell_type": "code",
   "execution_count": null,
   "metadata": {},
   "outputs": [],
   "source": [
    "# x[roi][2].shape"
   ]
  },
  {
   "cell_type": "code",
   "execution_count": 64,
   "metadata": {},
   "outputs": [],
   "source": [
    "# plt.figure()\n",
    "# for i, e in enumerate(emotions):\n",
    "#     for r, roi in enumerate(roi_selected):\n",
    "#         plt.hist(x[roi][0].flatten(), bins=30, color='blue', alpha=0.5)\n",
    "#         plt.hist(x[roi][2][0], bins=30, color='red', alpha=0.5)\n",
    "#         plt.title(f\"{e} {roi} ISC\")\n",
    "#         plt.show()\n"
   ]
  },
  {
   "cell_type": "code",
   "execution_count": null,
   "metadata": {},
   "outputs": [],
   "source": []
  },
  {
   "cell_type": "code",
   "execution_count": null,
   "metadata": {},
   "outputs": [],
   "source": []
  }
 ],
 "metadata": {
  "kernelspec": {
   "display_name": "Python 3 (ipykernel)",
   "language": "python",
   "name": "python3"
  },
  "language_info": {
   "codemirror_mode": {
    "name": "ipython",
    "version": 3
   },
   "file_extension": ".py",
   "mimetype": "text/x-python",
   "name": "python",
   "nbconvert_exporter": "python",
   "pygments_lexer": "ipython3",
   "version": "3.9.18"
  }
 },
 "nbformat": 4,
 "nbformat_minor": 4
}
