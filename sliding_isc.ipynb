{
 "cells": [
  {
   "cell_type": "code",
   "execution_count": 2,
   "metadata": {},
   "outputs": [
    {
     "name": "stderr",
     "output_type": "stream",
     "text": [
      "/usr/people/ri4541/miniconda3/envs/isc2/lib/python3.9/site-packages/tqdm/auto.py:21: TqdmWarning: IProgress not found. Please update jupyter and ipywidgets. See https://ipywidgets.readthedocs.io/en/stable/user_install.html\n",
      "  from .autonotebook import tqdm as notebook_tqdm\n"
     ]
    }
   ],
   "source": [
    "import os\n",
    "import pickle\n",
    "from concurrent.futures import ThreadPoolExecutor, as_completed\n",
    "import cProfile\n",
    "import time\n",
    "from glob import glob\n",
    "from os.path import join\n",
    "import numpy as np\n",
    "import matplotlib.pyplot as plt\n",
    "from tqdm import tqdm\n",
    "from sklearn.linear_model import RidgeCV\n",
    "from isc_standalone import p_from_null\n",
    "from ISC_Helper import get_rois, _compute_phaseshift_sliding_isc, load_roi_data, parcellate_bold, load_schaeffer1000, parcel_to_nifti\n",
    "from statsmodels.stats.multitest import multipletests\n",
    "# %matplotlib inline"
   ]
  },
  {
   "cell_type": "code",
   "execution_count": 19,
   "metadata": {},
   "outputs": [],
   "source": [
    "task = 'toystory'\n",
    "# roi_selected = ['visualcortex', 'auditory', 'vmPFC', 'ACC', 'PCC', 'insula', 'amygdala', 'NA']\n",
    "roi_selected = ['wholebrain']\n",
    "# emotions = ['P', 'N', 'M', 'X', 'Cry']  # Positive, Negative, Mixed, Neutral, Cry\n",
    "emotions = ['P', 'N', 'M']\n",
    "parcellate = True\n",
    "avg_over_roi = False\n",
    "spatial = False\n",
    "pairwise = False\n",
    "random_state = None\n",
    "window_size = 30\n",
    "step_size = 5\n",
    "\n",
    "if task == 'toystory':\n",
    "    n_trs = 288\n",
    "    n_shifts = 12\n",
    "elif task == 'onesmallstep':\n",
    "    n_trs = 454\n",
    "    n_shifts = 1024\n",
    "else:\n",
    "    raise Exception('task not defined')\n",
    "n_windows = int((n_trs - window_size) / step_size) + 1\n",
    "\n",
    "smooth = 'smooth'\n",
    "avg_over_roi_name = \"avg\" if avg_over_roi else \"voxelwise\"\n",
    "spatial_name = \"spatial\" if spatial else \"temporal\"\n",
    "pairwise_name = \"pairwise\" if pairwise else \"group\"\n",
    "\n",
    "# -------------------------------\n",
    "# File paths\n",
    "# -------------------------------\n",
    "amb_aff_path = '/jukebox/norman/rsiyer/isc'\n",
    "# amb_aff_path = '/Volumes/BCI-1/Ambivalent_Affect'\n",
    "if task == 'toystory':\n",
    "    data_dir_func = f'{amb_aff_path}/toystory/nuisance_regressed_cut'\n",
    "elif task == 'onesmallstep':\n",
    "    data_dir_func = f'{amb_aff_path}/fMRI_Study/ISC_Data_cut/NuisanceRegressed'\n",
    "else:\n",
    "    raise ValueError('Invalid task')\n",
    "func_fns = glob(join(data_dir_func, 'P?.nii.gz')) + glob(join(data_dir_func, 'N?.nii.gz')) + \\\n",
    "           glob(join(data_dir_func, 'VR?.nii.gz')) + glob(join(data_dir_func, 'P??.nii.gz')) + \\\n",
    "           glob(join(data_dir_func, 'N??.nii.gz')) + glob(join(data_dir_func, 'VR??.nii.gz'))\n",
    "\n",
    "if task == 'toystory':\n",
    "    label_dir = f'{amb_aff_path}/VideoLabelling/Toy_Story_Labelled'\n",
    "elif task == 'onesmallstep':\n",
    "    label_dir = f'{amb_aff_path}/fMRI_Study/VideoLabelling/OSS_Labelled'\n",
    "\n",
    "subj_ids = [str(subj).split('/')[-1].split('.')[0] for subj in func_fns]  # assume BIDS format\n",
    "subj_ids.sort()\n",
    "\n",
    "roi_mask_path = f'{amb_aff_path}/isc_scripts/rois'\n",
    "all_roi_fpaths = glob(os.path.join(roi_mask_path, '*.nii*'))\n",
    "all_roi_masker = get_rois(all_roi_fpaths)\n",
    "data_path = f'{amb_aff_path}/outputs/{task}/data'\n",
    "figure_path = f'{amb_aff_path}/isc/outputs/{task}/figures'\n",
    "parc_path = f\"{amb_aff_path}/isc_scripts/schaefer_2018/Schaefer2018_1000Parcels_17Networks_order_FSLMNI152_2mm.nii.gz\"\n",
    "mask_path = f\"{data_path}/mask_img.npy\"\n",
    "\n",
    "isc_path = f\"{data_path}/isc_sliding_{pairwise_name}_n{len(subj_ids)}_{avg_over_roi_name}_roi{len(roi_selected)}_\" \\\n",
    "           f\"window{window_size}_step{step_size}.pkl\"\n",
    "\n",
    "sliding_perm_path = f\"{data_path}/sliding_isc/permutations/phaseshift_size{window_size}_step{step_size}\"\n",
    "if parcellate:\n",
    "    assert avg_over_roi is False\n",
    "    sliding_perm_path += \"parcellated\"\n",
    "    n_parcels = 1000\n",
    "    parc, masked_parc = load_schaeffer1000(parc_path, mask_path)"
   ]
  },
  {
   "cell_type": "code",
   "execution_count": 20,
   "metadata": {},
   "outputs": [
    {
     "name": "stdout",
     "output_type": "stream",
     "text": [
      "permutations loaded from file\n",
      " /jukebox/norman/rsiyer/isc/outputs/toystory/data/sliding_isc/permutations/phaseshift_size30_step5parcellated_12perms_1rois_x\n"
     ]
    }
   ],
   "source": [
    "# if task == 'onesmallstep':\n",
    "# roi_selected = roi_selected[1:]\n",
    "\n",
    "save_path = f\"{sliding_perm_path}_{n_shifts}perms_{len(roi_selected)}rois_x\"\n",
    "with open(save_path, 'rb') as f:\n",
    "    x = pickle.load(f)\n",
    "    print('permutations loaded from file\\n', save_path)\n",
    "\n",
    "assert list(x.keys()) == roi_selected"
   ]
  },
  {
   "cell_type": "code",
   "execution_count": 21,
   "metadata": {},
   "outputs": [
    {
     "data": {
      "text/plain": [
       "(12, 52, 1000)"
      ]
     },
     "execution_count": 21,
     "metadata": {},
     "output_type": "execute_result"
    }
   ],
   "source": [
    "x[roi_selected[0]][2].shape"
   ]
  },
  {
   "cell_type": "code",
   "execution_count": 23,
   "metadata": {},
   "outputs": [
    {
     "name": "stdout",
     "output_type": "stream",
     "text": [
      "shape before trimming: (23, 300, 5)\n",
      "shape after trimming: (23, 288, 5)\n"
     ]
    }
   ],
   "source": [
    "label_dir = '/jukebox/norman/rsiyer/isc/VideoLabelling'\n",
    "coded_states = np.load(f'{label_dir}/coded_states_{task}.npy')\n",
    "print('shape before trimming:', coded_states.shape)\n",
    "if task == 'onesmallstep':\n",
    "    coded_states = coded_states[:, :-30]\n",
    "elif task == 'toystory':\n",
    "    coded_states = coded_states[:, :-12]\n",
    "    \n",
    "print('shape after trimming:', coded_states.shape)\n"
   ]
  },
  {
   "cell_type": "code",
   "execution_count": 24,
   "metadata": {},
   "outputs": [],
   "source": [
    "timepoint_variance = np.var(coded_states[:, :n_trs, :], axis=0)  # shape=(n_trs, n_emotions)\n",
    "\n",
    "# Initialize sliding window output\n",
    "slide_behav = np.zeros((n_windows, timepoint_variance.shape[1]))\n",
    "\n",
    "# Calculate mean variance within each sliding window\n",
    "for i in range(n_windows):\n",
    "    start_idx = i * step_size\n",
    "    end_idx = start_idx + window_size\n",
    "    slide_behav[i] = np.mean(timepoint_variance[start_idx:end_idx], axis=0)"
   ]
  },
  {
   "cell_type": "code",
   "execution_count": 25,
   "metadata": {},
   "outputs": [
    {
     "name": "stdout",
     "output_type": "stream",
     "text": [
      "shape before removing: (52, 5)\n",
      "shape after removing: (52, 3)\n"
     ]
    }
   ],
   "source": [
    "print('shape before removing:', slide_behav.shape)  # 8 rois, shape=(n_windows, n_emotions)\n",
    "# remove crying and neutral to just focus on pos, neg, mix, for 8 rois\n",
    "slide_behav = slide_behav[:, :3]\n",
    "# slide_behav = np.delete(slide_behav, 3, axis=1)  # remove neutral\n",
    "emotions = ['P', 'N', 'M', 'X', 'Cry']\n",
    "emotions = emotions[:3]\n",
    "print('shape after removing:', slide_behav.shape)"
   ]
  },
  {
   "cell_type": "markdown",
   "metadata": {},
   "source": [
    "Now that the data is formatted for regression, test the assumptions of linear regression "
   ]
  },
  {
   "cell_type": "code",
   "execution_count": 26,
   "metadata": {},
   "outputs": [],
   "source": [
    "# roi_data[2].shape"
   ]
  },
  {
   "cell_type": "code",
   "execution_count": 27,
   "metadata": {},
   "outputs": [],
   "source": [
    "# # 1. Linearity (correlation between ISC and behavior)\n",
    "# from scipy.stats import pearsonr\n",
    "# pearsonr_list = []\n",
    "# for roi_name, roi_data in x.items():\n",
    "#     # print(roi_data[0][:,0].shape, slide_behav[:, 0].shape)\n",
    "#     pearsonr_list.append(pearsonr(roi_data[0][:,0], slide_behav[:, 0])[0])\n",
    "#     pearsonr_list.append(pearsonr(roi_data[0][:,0], slide_behav[:, 1])[0])\n",
    "#     pearsonr_list.append(pearsonr(roi_data[0][:,0], slide_behav[:, 2])[0])\n",
    "\n",
    "# print()\n",
    "# print('pearsonr_list:', len(pearsonr_list))\n",
    "# print('mean:', np.mean(pearsonr_list))\n",
    "# print('std:', np.std(pearsonr_list))"
   ]
  },
  {
   "cell_type": "code",
   "execution_count": 28,
   "metadata": {},
   "outputs": [
    {
     "data": {
      "text/plain": [
       "(12, 52, 1000)"
      ]
     },
     "execution_count": 28,
     "metadata": {},
     "output_type": "execute_result"
    }
   ],
   "source": [
    "x['wholebrain'][2].shape"
   ]
  },
  {
   "cell_type": "code",
   "execution_count": 29,
   "metadata": {
    "scrolled": true
   },
   "outputs": [],
   "source": [
    "if parcellate:\n",
    "    true_coefs = np.empty(shape=(n_parcels, len(emotions)))\n",
    "    true_means = []\n",
    "    true_stds = []\n",
    "    true_r2s = []\n",
    "    for parcel in range(n_parcels):\n",
    "        true_isc_data = x['wholebrain'][0][:, parcel]  # observed, only need p and distribution for perm testing ISC\n",
    "        alpha_range = np.logspace(-3, 3, 100)\n",
    "        model = RidgeCV(alphas=alpha_range, store_cv_values=True)\n",
    "        results = model.fit(slide_behav, true_isc_data)\n",
    "        mses = results.cv_values_\n",
    "        true_coefs[parcel] = results.coef_\n",
    "        mean_mses = np.mean(mses, axis=0)\n",
    "        std_mses = np.std(mses, axis=0)\n",
    "\n",
    "        true_means.append(mean_mses[np.argmin(mean_mses)])\n",
    "        true_stds.append(std_mses[np.argmin(std_mses)])\n",
    "        true_r2s.append(model.score(slide_behav, true_isc_data))\n",
    "    # [print(f\"emotion consensus explains {true_r2s[r]:.2f} of variance in {roi} synchrony\") for r, roi in enumerate(roi_selected)]\n",
    "else:\n",
    "    true_coefs = np.empty(shape=(len(roi_selected), len(emotions)))\n",
    "    true_means = []\n",
    "    true_stds = []\n",
    "    true_r2s = []\n",
    "    for r, roi in enumerate(roi_selected):\n",
    "        true_isc_data = x[roi][0].flatten()  # observed, only need p and distribution for perm testing ISC\n",
    "        alpha_range = np.logspace(-3, 3, 100)\n",
    "        model = RidgeCV(alphas=alpha_range, store_cv_values=True)\n",
    "        results = model.fit(slide_behav, true_isc_data)\n",
    "        mses = results.cv_results_\n",
    "        true_coefs[r] = results.coef_\n",
    "        mean_mses = np.mean(mses, axis=0)\n",
    "        std_mses = np.std(mses, axis=0)\n",
    "\n",
    "        true_means.append(mean_mses[np.argmin(mean_mses)])\n",
    "        true_stds.append(std_mses[np.argmin(std_mses)])\n",
    "        true_r2s.append(model.score(slide_behav, true_isc_data))\n",
    "    [print(f\"emotion consensus explains {true_r2s[r]:.2f} of variance in {roi} synchrony\") for r, roi in enumerate(roi_selected)]"
   ]
  },
  {
   "cell_type": "code",
   "execution_count": 30,
   "metadata": {},
   "outputs": [
    {
     "data": {
      "text/plain": [
       "(1000,)"
      ]
     },
     "execution_count": 30,
     "metadata": {},
     "output_type": "execute_result"
    }
   ],
   "source": [
    "x['wholebrain'][0][0].shape"
   ]
  },
  {
   "cell_type": "code",
   "execution_count": 33,
   "metadata": {},
   "outputs": [
    {
     "name": "stderr",
     "output_type": "stream",
     "text": [
      "100%|██████████| 1000/1000 [01:28<00:00, 11.36it/s]\n"
     ]
    }
   ],
   "source": [
    "if parcellate:\n",
    "    perm_coefs = np.empty(shape=(n_parcels, n_shifts, len(emotions)))\n",
    "    perm_means = []\n",
    "    perm_stds = []\n",
    "    perm_r2s = np.empty(shape=(n_parcels, n_shifts))\n",
    "\n",
    "    for parcel in tqdm(range(n_parcels), total=n_parcels):\n",
    "        coefs = []\n",
    "        means = []\n",
    "        stds = []\n",
    "        r2s = []\n",
    "        for perm in range(n_shifts):\n",
    "            shifted_isc_data = x['wholebrain'][-1][perm][:, parcel]  # observed, only need p and distribution for perm testing ISC\n",
    "            alpha_range = np.logspace(-3, 3, 100)\n",
    "            model = RidgeCV(alphas=alpha_range, store_cv_values=True)\n",
    "            results = model.fit(slide_behav, shifted_isc_data)\n",
    "            mses = results.cv_values_  # contains mean squared error for each alpha\n",
    "            mean_mses = np.mean(mses, axis=0)\n",
    "            std_mses = np.std(mses, axis=0)\n",
    "\n",
    "            coefs.append(results.coef_)\n",
    "            means.append(mean_mses[np.argmin(mean_mses)])\n",
    "            stds.append(std_mses[np.argmin(std_mses)])\n",
    "            r2s.append(model.score(slide_behav, shifted_isc_data))\n",
    "\n",
    "        perm_coefs[parcel] = coefs\n",
    "        perm_means.append(means)\n",
    "        perm_stds.append(stds)\n",
    "        perm_r2s[parcel] = r2s\n",
    "else:\n",
    "    perm_coefs = np.empty(shape=(len(roi_selected), n_shifts, len(emotions)))\n",
    "    perm_means = []\n",
    "    perm_stds = []\n",
    "    perm_r2s = np.empty(shape=(len(roi_selected), n_shifts))\n",
    "\n",
    "    for r, roi in tqdm(enumerate(roi_selected), total=len(roi_selected)):\n",
    "        coefs = []\n",
    "        means = []\n",
    "        stds = []\n",
    "        r2s = []\n",
    "        for perm in range(n_shifts):\n",
    "            shifted_isc_data = x[roi][-1][perm].flatten()  # observed, only need p and distribution for perm testing ISC\n",
    "            alpha_range = np.logspace(-3, 3, 100)\n",
    "            model = RidgeCV(alphas=alpha_range, store_cv_values=True)\n",
    "            results = model.fit(slide_behav, shifted_isc_data)\n",
    "            mses = results.cv_values_  # contains mean squared error for each alpha\n",
    "            mean_mses = np.mean(mses, axis=0)\n",
    "            std_mses = np.std(mses, axis=0)\n",
    "\n",
    "            coefs.append(results.coef_)\n",
    "            means.append(mean_mses[np.argmin(mean_mses)])\n",
    "            stds.append(std_mses[np.argmin(std_mses)])\n",
    "            r2s.append(model.score(slide_behav, shifted_isc_data))\n",
    "\n",
    "        perm_coefs[r] = coefs\n",
    "        perm_means.append(means)\n",
    "        perm_stds.append(stds)\n",
    "        perm_r2s[r] = r2s\n"
   ]
  },
  {
   "cell_type": "code",
   "execution_count": 55,
   "metadata": {},
   "outputs": [
    {
     "name": "stderr",
     "output_type": "stream",
     "text": [
      "100%|██████████| 1000/1000 [00:11<00:00, 88.42it/s]\n"
     ]
    }
   ],
   "source": [
    "from concurrent.futures import ProcessPoolExecutor\n",
    "import numpy as np\n",
    "from tqdm import tqdm\n",
    "from sklearn.linear_model import RidgeCV\n",
    "\n",
    "# Assuming n_parcels, n_shifts, emotions, slide_behav, and x are already defined\n",
    "perm_coefs = np.empty(shape=(n_parcels, n_shifts, len(emotions)))\n",
    "perm_means = np.empty((n_parcels, n_shifts))\n",
    "perm_stds = np.empty((n_parcels, n_shifts))\n",
    "perm_r2s = np.empty(shape=(n_parcels, n_shifts))\n",
    "\n",
    "def compute_permutation(parcel):\n",
    "    coefs = []\n",
    "    means = []\n",
    "    stds = []\n",
    "    r2s = []\n",
    "    \n",
    "    for perm in range(n_shifts):\n",
    "        shifted_isc_data = x['wholebrain'][-1][perm][:, parcel]\n",
    "        alpha_range = np.logspace(-3, 3, 100)\n",
    "        model = RidgeCV(alphas=alpha_range, store_cv_values=True)\n",
    "        results = model.fit(slide_behav, shifted_isc_data)\n",
    "        mses = results.cv_values_\n",
    "        mean_mses = np.mean(mses, axis=0)\n",
    "        std_mses = np.std(mses, axis=0)\n",
    "\n",
    "        coefs.append(results.coef_)\n",
    "        means.append(mean_mses[np.argmin(mean_mses)])\n",
    "        stds.append(std_mses[np.argmin(std_mses)])\n",
    "        r2s.append(model.score(slide_behav, shifted_isc_data))\n",
    "\n",
    "    return parcel, coefs, means, stds, r2s\n",
    "\n",
    "# Run computations in parallel\n",
    "with ProcessPoolExecutor() as executor:\n",
    "    results = list(tqdm(executor.map(compute_permutation, range(n_parcels)), total=n_parcels))\n",
    "\n",
    "# Store results\n",
    "for parcel, coefs, means, stds, r2s in results:\n",
    "    perm_coefs[parcel] = coefs\n",
    "    perm_means[parcel] = means\n",
    "    perm_stds[parcel] = stds\n",
    "    perm_r2s[parcel] = r2s\n"
   ]
  },
  {
   "cell_type": "code",
   "execution_count": 19,
   "metadata": {
    "scrolled": true
   },
   "outputs": [],
   "source": [
    "# if parcellate:\n",
    "#     if __name__ == '__main__':\n",
    "#         perm_coefs, perm_means, perm_stds, perm_r2s = parallel_ridge_cv(\n",
    "#             x=x,\n",
    "#             slide_behav=slide_behav,\n",
    "#             n_parcels=n_parcels,\n",
    "#             n_shifts=n_shifts,\n",
    "#             emotions=emotions\n",
    "#         )"
   ]
  },
  {
   "cell_type": "code",
   "execution_count": 34,
   "metadata": {},
   "outputs": [
    {
     "name": "stderr",
     "output_type": "stream",
     "text": [
      "  0%|          | 0/1000 [00:00<?, ?it/s]"
     ]
    },
    {
     "name": "stderr",
     "output_type": "stream",
     "text": [
      "100%|██████████| 1000/1000 [00:00<00:00, 16342.82it/s]\n"
     ]
    }
   ],
   "source": [
    "if parcellate:\n",
    "    p_coef = np.empty(shape=(n_parcels, len(emotions)))\n",
    "    p_mean = []\n",
    "    p_std = []\n",
    "    p_r2 = np.empty(shape=(n_parcels))\n",
    "    for parcel in tqdm(range(n_parcels), total=n_parcels):\n",
    "        for e, emo in enumerate(emotions):\n",
    "            p_coef[parcel][e] = (p_from_null(true_coefs[parcel, e], perm_coefs[parcel,:,e]))\n",
    "            # p_mean.append(p_from_null(true_means[r], perm_means[r]))\n",
    "            # p_std.append(p_from_null(true_stds[r], perm_stds[r]))\n",
    "            p_r2[parcel] = (p_from_null(true_r2s[parcel], perm_r2s[parcel]))\n",
    "\n",
    "        # p_coef.append(p_roi[roi])\n",
    "\n",
    "        # p_coef.append(p_from_null(true_coefs[r], perm_coefs[r]))\n",
    "        # p_mean.append(p_from_null(true_means[r], perm_means[r]))\n",
    "        # p_std.append(p_from_null(true_stds[r], perm_stds[r]))\n",
    "        # p_r2.append(p_from_null(true_r2s[r], perm_r2s[r]))\n",
    "\n",
    "    # return an FDR-corrected p-value map per emotion\n",
    "    p_fdr = np.empty(shape=p_coef.shape)\n",
    "    for e, emo in enumerate(emotions):\n",
    "        _, q, _, _ = multipletests(p_coef[:, e], alpha=0.05, method='fdr_bh')\n",
    "        p_fdr[:, e] = q\n",
    "else:\n",
    "    p_coef = np.empty(shape=(len(roi_selected), len(emotions)))\n",
    "    p_mean = []\n",
    "    p_std = []\n",
    "    p_r2 = np.empty(shape=(len(roi_selected)))\n",
    "    for r, roi in tqdm(enumerate(roi_selected), total=len(roi_selected)):\n",
    "        for e, emo in enumerate(emotions):\n",
    "            p_coef[r][e] = (p_from_null(true_coefs[r, e], perm_coefs[r,:,e]))\n",
    "            # p_mean.append(p_from_null(true_means[r], perm_means[r]))\n",
    "            # p_std.append(p_from_null(true_stds[r], perm_stds[r]))\n",
    "            p_r2[r] = (p_from_null(true_r2s[r], perm_r2s[r]))\n",
    "\n",
    "        # p_coef.append(p_roi[roi])\n",
    "\n",
    "        # p_coef.append(p_from_null(true_coefs[r], perm_coefs[r]))\n",
    "        # p_mean.append(p_from_null(true_means[r], perm_means[r]))\n",
    "        # p_std.append(p_from_null(true_stds[r], perm_stds[r]))\n",
    "        # p_r2.append(p_from_null(true_r2s[r], perm_r2s[r]))\n",
    "\n",
    "    # print the rois that are significant at p < 0.05 for each metric along with the value of the metric, rounded to 2 decimal places\n",
    "    for r, roi in tqdm(enumerate(roi_selected), total=len(roi_selected)):\n",
    "        for e, emo in enumerate(emotions):\n",
    "            if p_coef[r][e] < 0.05/len(roi_selected):\n",
    "                \n",
    "                print(f\"{roi}, {emo}: Coef = {true_coefs[r, e]:.2f}, p = {p_coef[r][e]:.2f}\")\n",
    "                # print(f\"{roi}: Coef = {true_coefs[r]:.2f}, p = {p_coef[r]:.2f}\")\n",
    "        # if p_mean[r] < 0.05:\n",
    "        #     print(f\"{roi}: Mean = {true_means[r]:.2f}, p = {p_mean[r]:.2f}\")\n",
    "        # if p_std[r] < 0.05:\n",
    "        #     print(f\"{roi}: Std = {true_stds[r]:.2f}, p = {p_std[r]:.2f}\")\n",
    "        if p_r2[r] < 0.05/len(roi_selected):\n",
    "            print(f\"{roi}: R2 = {true_r2s[r]:.2f}, p = {p_r2[r]:.2f}\")"
   ]
  },
  {
   "cell_type": "code",
   "execution_count": 38,
   "metadata": {},
   "outputs": [],
   "source": [
    "import nibabel as nib\n",
    "parc = nib.load(parc_path)\n",
    "img = np.zeros(shape=((*parc.shape, len(emotions))))\n",
    "for p in range(1, n_parcels + 1):\n",
    "    mask = parc.get_fdata() == p  # location of current parcel\n",
    "    img[mask, :] = p_fdr[p - 1].T\n",
    "\n",
    "all_p = nib.Nifti1Image(img, parc.affine)"
   ]
  },
  {
   "cell_type": "code",
   "execution_count": 39,
   "metadata": {},
   "outputs": [
    {
     "data": {
      "text/plain": [
       "(91, 109, 91, 3)"
      ]
     },
     "execution_count": 39,
     "metadata": {},
     "output_type": "execute_result"
    }
   ],
   "source": [
    "all_p.shape"
   ]
  },
  {
   "cell_type": "code",
   "execution_count": 42,
   "metadata": {},
   "outputs": [
    {
     "data": {
      "text/plain": [
       "271714.7863138591"
      ]
     },
     "execution_count": 42,
     "metadata": {},
     "output_type": "execute_result"
    }
   ],
   "source": [
    "all_p.get_fdata()"
   ]
  },
  {
   "cell_type": "code",
   "execution_count": 60,
   "metadata": {},
   "outputs": [],
   "source": [
    "img = np.zeros(shape=((*parc.shape, len(emotions))))\n",
    "for p in range(1, n_parcels + 1):\n",
    "    mask = parc.get_fdata() == p  # location of current parcel\n",
    "    img[mask, :] = true_coefs[p - 1].T\n",
    "\n",
    "raw = nib.Nifti1Image(img, parc.affine)\n",
    "\n",
    "nib.save(raw, f\"{data_path}/emotion_coefs_raw\")"
   ]
  },
  {
   "cell_type": "code",
   "execution_count": 44,
   "metadata": {},
   "outputs": [],
   "source": [
    "nib.save(all_p, f\"{data_path}/emotion_pvals_corrected\")"
   ]
  },
  {
   "cell_type": "code",
   "execution_count": 47,
   "metadata": {},
   "outputs": [],
   "source": [
    "p_coef_thresholded = np.where(p_fdr < 0.05, true_coefs, 0)"
   ]
  },
  {
   "cell_type": "code",
   "execution_count": 49,
   "metadata": {},
   "outputs": [],
   "source": [
    "coef = np.zeros(shape=((*parc.shape, len(emotions))))\n",
    "for p in range(1, n_parcels + 1):\n",
    "    mask = parc.get_fdata() == p  # location of current parcel\n",
    "    coef[mask, :] = p_coef_thresholded[p - 1].T\n",
    "\n",
    "coef_nii = nib.Nifti1Image(coef, parc.affine)"
   ]
  },
  {
   "cell_type": "code",
   "execution_count": 50,
   "metadata": {},
   "outputs": [],
   "source": [
    "nib.save(coef_nii, f\"{data_path}/emotion_betas_corrected\")"
   ]
  },
  {
   "cell_type": "code",
   "execution_count": 51,
   "metadata": {},
   "outputs": [],
   "source": [
    "# all_p = []\n",
    "# for e in range(len(emotions)):\n",
    "#     all_p.append(parcel_to_nifti(parc, n_parcels, p_fdr[:,e]))\n",
    "    "
   ]
  },
  {
   "cell_type": "code",
   "execution_count": 52,
   "metadata": {},
   "outputs": [],
   "source": [
    "# p_r2, roi_selected"
   ]
  },
  {
   "cell_type": "code",
   "execution_count": 53,
   "metadata": {},
   "outputs": [
    {
     "name": "stdout",
     "output_type": "stream",
     "text": [
      "plotting true vs null dist\n"
     ]
    },
    {
     "name": "stderr",
     "output_type": "stream",
     "text": [
      "100%|██████████| 3/3 [00:00<00:00,  4.93it/s]\n"
     ]
    },
    {
     "data": {
      "image/png": "[encoded data removed]",
      "text/plain": [
       "<Figure size 1500x1000 with 9 Axes>"
      ]
     },
     "metadata": {},
     "output_type": "display_data"
    }
   ],
   "source": [
    "if parcellate:\n",
    "    num_to_plot = 3\n",
    "    print('plotting true vs null dist')\n",
    "    plt.figure(figsize=(15, 10))\n",
    "    for parcel in tqdm(range(num_to_plot)):\n",
    "        for e, emo in enumerate(emotions):\n",
    "            plt.subplot(num_to_plot, len(emotions), parcel * len(emotions) + e + 1)\n",
    "            plt.hist(perm_coefs[parcel, :, e], bins=30, color='blue', alpha=0.5, label='Null Distribution')\n",
    "            plt.axvline(true_coefs[parcel, e], color='red', linestyle='dashed', linewidth=2, label='Actual Value')\n",
    "            plt.title(f\"{parcel} - {emo}\")\n",
    "            plt.xlabel('Coefficient Value')\n",
    "            plt.ylabel('Frequency')\n",
    "            plt.legend()\n",
    "\n",
    "    plt.tight_layout()\n",
    "# plt.savefig(f'{figure_path}/true_vs_null')\n",
    "else:\n",
    "    print('plotting true vs null dist')\n",
    "    plt.figure(figsize=(15, 10))\n",
    "    for r, roi in tqdm(enumerate(roi_selected), total=len(roi_selected)):\n",
    "        for e, emo in enumerate(emotions):\n",
    "            plt.subplot(len(roi_selected), len(emotions), r * len(emotions) + e + 1)\n",
    "            plt.hist(perm_coefs[r, :, e], bins=30, color='blue', alpha=0.5, label='Null Distribution')\n",
    "            plt.axvline(true_coefs[r, e], color='red', linestyle='dashed', linewidth=2, label='Actual Value')\n",
    "            plt.title(f\"{roi} - {emo}\")\n",
    "            plt.xlabel('Coefficient Value')\n",
    "            plt.ylabel('Frequency')\n",
    "            plt.legend()\n",
    "\n",
    "    plt.tight_layout()\n",
    "    # plt.savefig(f'{figure_path}/true_vs_null')"
   ]
  },
  {
   "cell_type": "code",
   "execution_count": null,
   "metadata": {},
   "outputs": [],
   "source": [
    "# plt.figure(figsize=(15, 10))\n",
    "# for e, emo in enumerate(emotions):\n",
    "#     plt.subplot(1, len(emotions), e + 1)\n",
    "#     plt.hist(perm_coefs[0, :, e], bins=100, color='blue', alpha=0.5, label='Null Distribution')\n",
    "#     plt.axvline(true_coefs[0, e], color='red', linestyle='dashed', linewidth=2, label='Actual Value')\n",
    "#     plt.title(f\"visualcortex - {emo}\")\n",
    "#     plt.xlabel('Coefficient Value')\n",
    "#     plt.ylabel('Frequency')\n",
    "#     plt.legend()\n",
    "# plt.show()\n",
    "# # plt.savefig(f'{figure_path}/PCC_corr')\n"
   ]
  },
  {
   "cell_type": "code",
   "execution_count": null,
   "metadata": {},
   "outputs": [],
   "source": [
    "# x[roi][2].shape"
   ]
  },
  {
   "cell_type": "code",
   "execution_count": 64,
   "metadata": {},
   "outputs": [],
   "source": [
    "# plt.figure()\n",
    "# for i, e in enumerate(emotions):\n",
    "#     for r, roi in enumerate(roi_selected):\n",
    "#         plt.hist(x[roi][0].flatten(), bins=30, color='blue', alpha=0.5)\n",
    "#         plt.hist(x[roi][2][0], bins=30, color='red', alpha=0.5)\n",
    "#         plt.title(f\"{e} {roi} ISC\")\n",
    "#         plt.show()\n"
   ]
  },
  {
   "cell_type": "code",
   "execution_count": null,
   "metadata": {},
   "outputs": [],
   "source": []
  },
  {
   "cell_type": "code",
   "execution_count": null,
   "metadata": {},
   "outputs": [],
   "source": []
  }
 ],
 "metadata": {
  "kernelspec": {
   "display_name": "isc2",
   "language": "python",
   "name": "python3"
  },
  "language_info": {
   "codemirror_mode": {
    "name": "ipython",
    "version": 3
   },
   "file_extension": ".py",
   "mimetype": "text/x-python",
   "name": "python",
   "nbconvert_exporter": "python",
   "pygments_lexer": "ipython3",
   "version": "3.9.16"
  }
 },
 "nbformat": 4,
 "nbformat_minor": 4
}
